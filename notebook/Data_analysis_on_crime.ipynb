{
 "cells": [
  {
   "cell_type": "markdown",
   "id": "ff09cc7a-9e06-4286-bad3-72c8926ae43d",
   "metadata": {},
   "source": [
    "# Crimes Against Women Dataset - Exploratory and Descriptive Analysis\r\n",
    "\r\n",
    "In this notebook, we perform an in-depth exploratory and descriptive analysis of the **Crimes Against Women** dataset, which contains reported cases across Indian states and union territories from the years 2001 to 2021. This dataset provides critical insights into the frequency, types, and distribution of crimes committed against women, making it a valuable resource for policy formulation, social awareness, and data-driven intervention planning.\r\n",
    "\r\n",
    "The purpose of this analysis is to uncover patterns, identify high-risk regions, examine the most prevalent types of crimes, and understand long-term trends in gender-based violence. We place particular emphasis on visualizing changes over time, comparing crime volumes across different states, and assessing the impact of specific types of violence such as **domestic abuse**, **assault on modesty**, **rape**, and **trafficking**.\r\n",
    "\r\n",
    "By analyzing the cleaned and reshaped dataset, we aim to build a strong foundation for more advanced statistical or predictive modeling and inform future policy recommendations or public safety initiatives.\r\n",
    "\r\n",
    "---\r\n",
    "\r\n",
    "We begin our analysis by importing essential Python libraries used for **data manipulation**, **visualization**, and **file handling**:\r\n",
    "\r\n",
    "- `pandas`: Used for loading, cleaning, and reshaping structured tabular data, allowing efficient data analysis workflows.\r\n",
    "\r\n",
    "- `numpy`: Supports numerical operations and handling of missing or inconsistent data values.\r\n",
    "\r\n",
    "- `os`: Helps manage file paths and directories during the analysis and export process.\r\n",
    "\r\n",
    "- `plotly.express`: A powerful graphing library used to create interactive and insightful visualizations that reveal key patterns and trends across states, years, and crime categories.\r\n",
    "\r\n"
   ]
  },
  {
   "cell_type": "code",
   "execution_count": 209,
   "id": "89443e67-3162-4877-af3b-8745abc26c4d",
   "metadata": {},
   "outputs": [],
   "source": [
    "# import libraries\n",
    "import os \n",
    "import pandas as pd \n",
    "import numpy as np  \n",
    "import plotly.express as px \n",
    "import plotly.graph_objects as go"
   ]
  },
  {
   "cell_type": "markdown",
   "id": "f8370b15-616a-4610-a80e-14f0f0c7934c",
   "metadata": {},
   "source": [
    "## Define and Create Directory Paths\n",
    "\n",
    "To ensure reproducibility and organized storage, we programmatically create directories if they don't already exist for:\n",
    "\n",
    "- **raw data**\n",
    "- **processed data**\n",
    "- **results**\n",
    "- **documentation**\n",
    "\n",
    "These directories will store intermediate and final outputs for reproducibility.\n",
    "\n",
    "\n",
    "\n"
   ]
  },
  {
   "cell_type": "code",
   "execution_count": 211,
   "id": "58a17d1e-52f0-479a-a451-aa5cea3007a8",
   "metadata": {},
   "outputs": [],
   "source": [
    "#get working directories\n",
    "current_dir = os.getcwd() \n",
    "#Go one directory up to the root directory\n",
    "project_root_dir = os.path.dirname(current_dir) \n",
    "project_root_dir\n",
    "# Define paths to the data folders\n",
    "data_dir = os.path.join(project_root_dir, \"Data\")\n",
    "raw_dir = os.path.join(data_dir, \"raw\")\n",
    "processed_dir = os.path.join(data_dir, \"processed\")\n",
    "# Define paths to results folder\n",
    "results_dir = os.path.join(project_root_dir, \"results\")\n",
    "#define paths to the docs folder\n",
    "docs_dir = os.path.join(project_root_dir,\"docs\")\n",
    "\n",
    "# Creates directories if they do not exist\n",
    "os.makedirs(raw_dir, exist_ok = True)\n",
    "os.makedirs(processed_dir, exist_ok = True)\n",
    "os.makedirs(results_dir, exist_ok = True)\n",
    "os.makedirs(docs_dir, exist_ok = True)\n"
   ]
  },
  {
   "cell_type": "markdown",
   "id": "6dc3f55c-0435-45ac-99f3-a8b268d2c46e",
   "metadata": {},
   "source": [
    "## Read data in the Data \n",
    "We load the cleaned version of the Crimes Against Women dataset from the processed data directory into a Pandas DataFrame. The `head(10)` function is used to display the first ten records, providing a quick view of the key columns such as `state`, `crime_type`, `year` This helps verify that the dataset has been properly cleaned and reshaped into a long format, suitable for analysis and visualization.\r\n"
   ]
  },
  {
   "cell_type": "code",
   "execution_count": 213,
   "id": "3ff66b31-ae5a-4510-b761-603be9a80437",
   "metadata": {},
   "outputs": [
    {
     "data": {
      "text/html": [
       "<div>\n",
       "<style scoped>\n",
       "    .dataframe tbody tr th:only-of-type {\n",
       "        vertical-align: middle;\n",
       "    }\n",
       "\n",
       "    .dataframe tbody tr th {\n",
       "        vertical-align: top;\n",
       "    }\n",
       "\n",
       "    .dataframe thead th {\n",
       "        text-align: right;\n",
       "    }\n",
       "</style>\n",
       "<table border=\"1\" class=\"dataframe\">\n",
       "  <thead>\n",
       "    <tr style=\"text-align: right;\">\n",
       "      <th></th>\n",
       "      <th>State</th>\n",
       "      <th>Year</th>\n",
       "      <th>Crime Type</th>\n",
       "      <th>Value</th>\n",
       "    </tr>\n",
       "  </thead>\n",
       "  <tbody>\n",
       "    <tr>\n",
       "      <th>0</th>\n",
       "      <td>andhra pradesh</td>\n",
       "      <td>2001</td>\n",
       "      <td>No. of Rape cases</td>\n",
       "      <td>871</td>\n",
       "    </tr>\n",
       "    <tr>\n",
       "      <th>1</th>\n",
       "      <td>arunachal pradesh</td>\n",
       "      <td>2001</td>\n",
       "      <td>No. of Rape cases</td>\n",
       "      <td>33</td>\n",
       "    </tr>\n",
       "    <tr>\n",
       "      <th>2</th>\n",
       "      <td>assam</td>\n",
       "      <td>2001</td>\n",
       "      <td>No. of Rape cases</td>\n",
       "      <td>817</td>\n",
       "    </tr>\n",
       "    <tr>\n",
       "      <th>3</th>\n",
       "      <td>bihar</td>\n",
       "      <td>2001</td>\n",
       "      <td>No. of Rape cases</td>\n",
       "      <td>888</td>\n",
       "    </tr>\n",
       "    <tr>\n",
       "      <th>4</th>\n",
       "      <td>chhattisgarh</td>\n",
       "      <td>2001</td>\n",
       "      <td>No. of Rape cases</td>\n",
       "      <td>959</td>\n",
       "    </tr>\n",
       "    <tr>\n",
       "      <th>5</th>\n",
       "      <td>goa</td>\n",
       "      <td>2001</td>\n",
       "      <td>No. of Rape cases</td>\n",
       "      <td>12</td>\n",
       "    </tr>\n",
       "    <tr>\n",
       "      <th>6</th>\n",
       "      <td>gujarat</td>\n",
       "      <td>2001</td>\n",
       "      <td>No. of Rape cases</td>\n",
       "      <td>286</td>\n",
       "    </tr>\n",
       "    <tr>\n",
       "      <th>7</th>\n",
       "      <td>haryana</td>\n",
       "      <td>2001</td>\n",
       "      <td>No. of Rape cases</td>\n",
       "      <td>398</td>\n",
       "    </tr>\n",
       "    <tr>\n",
       "      <th>8</th>\n",
       "      <td>himachal pradesh</td>\n",
       "      <td>2001</td>\n",
       "      <td>No. of Rape cases</td>\n",
       "      <td>124</td>\n",
       "    </tr>\n",
       "    <tr>\n",
       "      <th>9</th>\n",
       "      <td>jammu &amp; kashmir</td>\n",
       "      <td>2001</td>\n",
       "      <td>No. of Rape cases</td>\n",
       "      <td>169</td>\n",
       "    </tr>\n",
       "  </tbody>\n",
       "</table>\n",
       "</div>"
      ],
      "text/plain": [
       "               State  Year         Crime Type  Value\n",
       "0     andhra pradesh  2001  No. of Rape cases    871\n",
       "1  arunachal pradesh  2001  No. of Rape cases     33\n",
       "2              assam  2001  No. of Rape cases    817\n",
       "3              bihar  2001  No. of Rape cases    888\n",
       "4       chhattisgarh  2001  No. of Rape cases    959\n",
       "5                goa  2001  No. of Rape cases     12\n",
       "6            gujarat  2001  No. of Rape cases    286\n",
       "7            haryana  2001  No. of Rape cases    398\n",
       "8   himachal pradesh  2001  No. of Rape cases    124\n",
       "9    jammu & kashmir  2001  No. of Rape cases    169"
      ]
     },
     "execution_count": 213,
     "metadata": {},
     "output_type": "execute_result"
    }
   ],
   "source": [
    "crime_data_df= os.path.join(processed_dir, \"reshaped_data.csv\")\n",
    "crime_df = pd.read_csv(crime_data_df)\n",
    "crime_df.head(10)"
   ]
  },
  {
   "cell_type": "markdown",
   "id": "c681b113-30e1-405d-9457-03caa1b195d6",
   "metadata": {},
   "source": [
    "####  Check the Shape of the Dataset and Data Types\r\n",
    "\r\n",
    "Before performing analysis, we check the overall structure of the dataset:\r\n",
    "\r\n",
    "- **Shape**: Tells us how many rows and columns are present in the dataset using `df.shape`.\r\n",
    "- **Data Types**: Displays the type of data in each column (e.g., integer, float, object) using `df.dtypes`.\r\n",
    "- This step helps us:\r\n",
    "  - Confirm that the dataset loaded correctly\r\n",
    "  - Understand the structure of the data\r\n",
    "  - Identify any columns that may need conversion (e.g., `year` from object to int)\r\n",
    "\r\n",
    "Example:\r\n",
    "\r\n",
    "```crime_python\r\n",
    "print(dfcrime_.shape)\r\n",
    "print(df.dtypes)\r\n"
   ]
  },
  {
   "cell_type": "code",
   "execution_count": 215,
   "id": "fa775d6e-42cb-44db-8c06-85c4502ee8d6",
   "metadata": {},
   "outputs": [
    {
     "data": {
      "text/plain": [
       "(5152, 4)"
      ]
     },
     "execution_count": 215,
     "metadata": {},
     "output_type": "execute_result"
    }
   ],
   "source": [
    "crime_df.shape"
   ]
  },
  {
   "cell_type": "markdown",
   "id": "24977bee-92a5-4280-bb03-5fb77968311f",
   "metadata": {},
   "source": [
    "## Summary Statistics: Numerical Variables\r\n",
    "\r\n",
    "The table below summarizes the key statistics for the numerical columns in the dataset — `Year` and `Value` (i.e., the number of reported crime cases):\r\n",
    "\r\n",
    "| Statistic | Year | Value (Number of Cases) |\r\n",
    "|----------:|------|-------------------------|\r\n",
    "| Count     | 5,152 | 5,152                  |\r\n",
    "| Mean      | 2011.15 | 944.82               |\r\n",
    "| Std Dev   | 6.05   | 2,174.42              |\r\n",
    "| Min       | 2001   | 0                     |\r\n",
    "| 25%       | 2006   | 4                     |\r\n",
    "| Median    | 2011   | 79.5                  |\r\n",
    "| 75%       | 2016   | 814.25                |\r\n",
    "| Max       | 2021   | 23,278                |\r\n",
    "\r\n",
    "### Key Insights:\r\n",
    "\r\n",
    "- The dataset contains **5,152 records**, spanning crime data reported from **2001 to 2021**.\r\n",
    "- The **average number of cases** reported is approximately **945**, but with a high **standard deviation** of over **2,174**, which reflects **extreme variation** in crime reporting.\r\n",
    "- The **minimum number of cases is 0**, while the **maximum reaches 23,278**, showing that some states and crime types have dramatically high reports compared to others.\r\n",
    "- The **median (50th percentile) is only 79.5**, while the **75th percentile is over 814**, indicating a strong **right skew** — most values are small, but a few are extremely large.\r\n",
    "- This skewness suggests the presence of **\"hotspot states\"** or **high-incidence crime types**, likely driving much of the national crime statistics.\r\n",
    "\r\n",
    "These summary statistics help us understand the scale and variability of crimes against women across states and years, setting a foundation for deeper trend and regional analysis.\r\n"
   ]
  },
  {
   "cell_type": "code",
   "execution_count": 217,
   "id": "f7c142f4-c4f4-4213-a457-eb682d5ddfc5",
   "metadata": {},
   "outputs": [
    {
     "data": {
      "text/html": [
       "<div>\n",
       "<style scoped>\n",
       "    .dataframe tbody tr th:only-of-type {\n",
       "        vertical-align: middle;\n",
       "    }\n",
       "\n",
       "    .dataframe tbody tr th {\n",
       "        vertical-align: top;\n",
       "    }\n",
       "\n",
       "    .dataframe thead th {\n",
       "        text-align: right;\n",
       "    }\n",
       "</style>\n",
       "<table border=\"1\" class=\"dataframe\">\n",
       "  <thead>\n",
       "    <tr style=\"text-align: right;\">\n",
       "      <th></th>\n",
       "      <th>Year</th>\n",
       "      <th>Value</th>\n",
       "    </tr>\n",
       "  </thead>\n",
       "  <tbody>\n",
       "    <tr>\n",
       "      <th>count</th>\n",
       "      <td>5152.000000</td>\n",
       "      <td>5152.000000</td>\n",
       "    </tr>\n",
       "    <tr>\n",
       "      <th>mean</th>\n",
       "      <td>2011.149457</td>\n",
       "      <td>944.821817</td>\n",
       "    </tr>\n",
       "    <tr>\n",
       "      <th>std</th>\n",
       "      <td>6.049927</td>\n",
       "      <td>2174.419490</td>\n",
       "    </tr>\n",
       "    <tr>\n",
       "      <th>min</th>\n",
       "      <td>2001.000000</td>\n",
       "      <td>0.000000</td>\n",
       "    </tr>\n",
       "    <tr>\n",
       "      <th>25%</th>\n",
       "      <td>2006.000000</td>\n",
       "      <td>4.000000</td>\n",
       "    </tr>\n",
       "    <tr>\n",
       "      <th>50%</th>\n",
       "      <td>2011.000000</td>\n",
       "      <td>79.500000</td>\n",
       "    </tr>\n",
       "    <tr>\n",
       "      <th>75%</th>\n",
       "      <td>2016.000000</td>\n",
       "      <td>814.250000</td>\n",
       "    </tr>\n",
       "    <tr>\n",
       "      <th>max</th>\n",
       "      <td>2021.000000</td>\n",
       "      <td>23278.000000</td>\n",
       "    </tr>\n",
       "  </tbody>\n",
       "</table>\n",
       "</div>"
      ],
      "text/plain": [
       "              Year         Value\n",
       "count  5152.000000   5152.000000\n",
       "mean   2011.149457    944.821817\n",
       "std       6.049927   2174.419490\n",
       "min    2001.000000      0.000000\n",
       "25%    2006.000000      4.000000\n",
       "50%    2011.000000     79.500000\n",
       "75%    2016.000000    814.250000\n",
       "max    2021.000000  23278.000000"
      ]
     },
     "execution_count": 217,
     "metadata": {},
     "output_type": "execute_result"
    }
   ],
   "source": [
    "crime_df.describe()"
   ]
  },
  {
   "cell_type": "markdown",
   "id": "d2b3bbc5-831b-4505-bc68-9858bb0e73db",
   "metadata": {},
   "source": [
    "### Description of Categorical Variables in the Crime Dataset\n",
    "\n",
    "The dataset contains two categorical columns: **State** and **Crime Type**.\n",
    "\n",
    "- **State**:  \n",
    "  - Total records: 5152  \n",
    "  - Number of unique states: 37  \n",
    "  - Most frequent state: *Andhra Pradesh* with 147 records\n",
    "\n",
    "- **Crime Type**:  \n",
    "  - Total records: 5152  \n",
    "  - Number of unique crime types: 7  \n",
    "  - Most common crime type: *No. of Rape cases*, appearing 736 times in the dataset\n",
    "\n",
    "This summary helps us understand the diversity and distribution of states and crime categories recorded in the dataset.\n"
   ]
  },
  {
   "cell_type": "markdown",
   "id": "a2768107-ac10-4b45-8da3-e28b8a605241",
   "metadata": {},
   "source": [
    "| Statistic | State            | Crime Type          |\n",
    "|-----------|------------------|---------------------|\n",
    "| Count     | 5152             | 5152                |\n",
    "| Unique    | 37               | 7                   |\n",
    "| Top       | andhra pradesh   | No. of Rape cases   |\n",
    "| Freq      | 147              | 736                 |\n"
   ]
  },
  {
   "cell_type": "code",
   "execution_count": 220,
   "id": "557c6b09-0d2d-4442-98ec-64cfe317b051",
   "metadata": {},
   "outputs": [
    {
     "data": {
      "text/html": [
       "<div>\n",
       "<style scoped>\n",
       "    .dataframe tbody tr th:only-of-type {\n",
       "        vertical-align: middle;\n",
       "    }\n",
       "\n",
       "    .dataframe tbody tr th {\n",
       "        vertical-align: top;\n",
       "    }\n",
       "\n",
       "    .dataframe thead th {\n",
       "        text-align: right;\n",
       "    }\n",
       "</style>\n",
       "<table border=\"1\" class=\"dataframe\">\n",
       "  <thead>\n",
       "    <tr style=\"text-align: right;\">\n",
       "      <th></th>\n",
       "      <th>State</th>\n",
       "      <th>Crime Type</th>\n",
       "    </tr>\n",
       "  </thead>\n",
       "  <tbody>\n",
       "    <tr>\n",
       "      <th>count</th>\n",
       "      <td>5152</td>\n",
       "      <td>5152</td>\n",
       "    </tr>\n",
       "    <tr>\n",
       "      <th>unique</th>\n",
       "      <td>37</td>\n",
       "      <td>7</td>\n",
       "    </tr>\n",
       "    <tr>\n",
       "      <th>top</th>\n",
       "      <td>andhra pradesh</td>\n",
       "      <td>No. of Rape cases</td>\n",
       "    </tr>\n",
       "    <tr>\n",
       "      <th>freq</th>\n",
       "      <td>147</td>\n",
       "      <td>736</td>\n",
       "    </tr>\n",
       "  </tbody>\n",
       "</table>\n",
       "</div>"
      ],
      "text/plain": [
       "                 State         Crime Type\n",
       "count             5152               5152\n",
       "unique              37                  7\n",
       "top     andhra pradesh  No. of Rape cases\n",
       "freq               147                736"
      ]
     },
     "execution_count": 220,
     "metadata": {},
     "output_type": "execute_result"
    }
   ],
   "source": [
    "crime_df.describe(include='object')"
   ]
  },
  {
   "cell_type": "markdown",
   "id": "0119d241-58f8-423a-9341-36018eb91c08",
   "metadata": {},
   "source": [
    "### Distribution of Crime Types\n",
    "\n",
    "The following table (or list) shows the count of each type of crime recorded in the dataset under the **Crime Type** column:\n",
    "This distribution helps identify which crimes against women are most frequently reported in the dataset.\n"
   ]
  },
  {
   "cell_type": "markdown",
   "id": "f0ca084a-2ec5-406b-a536-7373031b9b55",
   "metadata": {},
   "source": [
    "\n",
    "| Crime Type                        | Count |\n",
    "|----------------------------------|-------|\n",
    "| No. of Rape cases                | 736   |\n",
    "| Kidnap And Assault               | 736   |\n",
    "| Dowry Deaths                     | 736   |\n",
    "| Assault against women            | 736   |\n",
    "| Assault against modesty of women| 736   |\n",
    "| Domestic violence                | 736   |\n",
    "| Women Trafficking                | 736   |\n"
   ]
  },
  {
   "cell_type": "code",
   "execution_count": 223,
   "id": "98ac781f-5cb4-487b-af2d-a34719084908",
   "metadata": {},
   "outputs": [
    {
     "data": {
      "text/plain": [
       "Crime Type\n",
       "No. of Rape cases                   736\n",
       "Kidnap And Assault                  736\n",
       "Dowry Deaths                        736\n",
       "Assault against women               736\n",
       "Assault against modesty of women    736\n",
       "Domestic violence                   736\n",
       "Women Trafficking                   736\n",
       "Name: count, dtype: int64"
      ]
     },
     "execution_count": 223,
     "metadata": {},
     "output_type": "execute_result"
    }
   ],
   "source": [
    "crime_df['Crime Type'].value_counts()"
   ]
  },
  {
   "cell_type": "markdown",
   "id": "fa90dc86-4db3-4660-956c-d40d15c26168",
   "metadata": {},
   "source": [
    "| Crime Type                        | Proportion |\n",
    "|----------------------------------|------------|\n",
    "| No. of Rape cases                | 0.142857   |\n",
    "| Kidnap And Assault               | 0.142857   |\n",
    "| Dowry Deaths                     | 0.142857   |\n",
    "| Assault against women            | 0.142857   |\n",
    "| Assault against modesty of women| 0.142857   |\n",
    "| Domestic violence                | 0.142857   |\n",
    "| Women Trafficking                | 0.142857   |\n"
   ]
  },
  {
   "cell_type": "markdown",
   "id": "1b6cad46-ccce-4fdc-a9de-4325e135c923",
   "metadata": {},
   "source": [
    "| State               | Proportion |\n",
    "|---------------------|------------|\n",
    "| andhra pradesh      | 0.028533   |\n",
    "| uttar pradesh       | 0.028533   |\n",
    "| odisha              | 0.028533   |\n",
    "| punjab              | 0.028533   |\n",
    "| rajasthan           | 0.028533   |\n",
    "| sikkim              | 0.028533   |\n",
    "| tamil nadu          | 0.028533   |\n",
    "| tripura             | 0.028533   |\n",
    "| uttarakhand         | 0.028533   |\n",
    "| mizoram             | 0.028533   |\n",
    "| west bengal         | 0.028533   |\n",
    "| a & n islands       | 0.028533   |\n",
    "| chandigarh          | 0.028533   |\n",
    "| daman & diu         | 0.028533   |\n",
    "| lakshadweep         | 0.028533   |\n",
    "| puducherry          | 0.028533   |\n",
    "| arunachal pradesh   | 0.028533   |\n",
    "| nagaland            | 0.028533   |\n",
    "| meghalaya           | 0.028533   |\n",
    "| himachal pradesh    | 0.028533   |\n",
    "| assam               | 0.028533   |\n",
    "| bihar               | 0.028533   |\n",
    "| chhattisgarh        | 0.028533   |\n",
    "| goa                 | 0.028533   |\n",
    "| gujarat             | 0.028533   |\n",
    "| manipur             | 0.028533   |\n",
    "| haryana             | 0.028533   |\n",
    "| jammu & kashmir     | 0.028533   |\n",
    "| jharkhand           | 0.028533   |\n",
    "| karnataka           | 0.028533   |\n",
    "| kerala              | 0.028533   |\n",
    "| madhya pradesh      | 0.028533   |\n",
    "| maharashtra         | 0.028533   |\n",
    "| telangana           | 0.014946   |\n",
    "| d&n haveli          | 0.014946   |\n",
    "| delhi ut            | 0.014946   |\n",
    "| d & n haveli        | 0.013587   |\n"
   ]
  },
  {
   "cell_type": "code",
   "execution_count": 226,
   "id": "9754c575-828f-4333-a82c-caba6fe106c0",
   "metadata": {},
   "outputs": [
    {
     "data": {
      "text/plain": [
       "Crime Type\n",
       "No. of Rape cases                   0.142857\n",
       "Kidnap And Assault                  0.142857\n",
       "Dowry Deaths                        0.142857\n",
       "Assault against women               0.142857\n",
       "Assault against modesty of women    0.142857\n",
       "Domestic violence                   0.142857\n",
       "Women Trafficking                   0.142857\n",
       "Name: proportion, dtype: float64"
      ]
     },
     "execution_count": 226,
     "metadata": {},
     "output_type": "execute_result"
    }
   ],
   "source": [
    "crime_df['Crime Type'].value_counts(normalize=True)"
   ]
  },
  {
   "cell_type": "code",
   "execution_count": 227,
   "id": "e3c1e742-0d06-4a74-a305-65914d9177cb",
   "metadata": {},
   "outputs": [
    {
     "data": {
      "text/plain": [
       "State\n",
       "andhra pradesh       0.028533\n",
       "uttar pradesh        0.028533\n",
       "odisha               0.028533\n",
       "punjab               0.028533\n",
       "rajasthan            0.028533\n",
       "sikkim               0.028533\n",
       "tamil nadu           0.028533\n",
       "tripura              0.028533\n",
       "uttarakhand          0.028533\n",
       "mizoram              0.028533\n",
       "west bengal          0.028533\n",
       "a & n islands        0.028533\n",
       "chandigarh           0.028533\n",
       "daman & diu          0.028533\n",
       "lakshadweep          0.028533\n",
       "puducherry           0.028533\n",
       "arunachal pradesh    0.028533\n",
       "nagaland             0.028533\n",
       "meghalaya            0.028533\n",
       "himachal pradesh     0.028533\n",
       "assam                0.028533\n",
       "bihar                0.028533\n",
       "chhattisgarh         0.028533\n",
       "goa                  0.028533\n",
       "gujarat              0.028533\n",
       "manipur              0.028533\n",
       "haryana              0.028533\n",
       "jammu & kashmir      0.028533\n",
       "jharkhand            0.028533\n",
       "karnataka            0.028533\n",
       "kerala               0.028533\n",
       "madhya pradesh       0.028533\n",
       "maharashtra          0.028533\n",
       "telangana            0.014946\n",
       "d&n haveli           0.014946\n",
       "delhi ut             0.014946\n",
       "d & n haveli         0.013587\n",
       "Name: proportion, dtype: float64"
      ]
     },
     "execution_count": 227,
     "metadata": {},
     "output_type": "execute_result"
    }
   ],
   "source": [
    "crime_df['State'].value_counts(normalize=True)"
   ]
  },
  {
   "cell_type": "code",
   "execution_count": 228,
   "id": "16bd1000-dd0a-4f72-8c76-e268ae9c52e0",
   "metadata": {},
   "outputs": [],
   "source": [
    "year = 2020 \n",
    "crime_2020 = crime_df[crime_df['Year'] == year].groupby('Crime Type')['Value'].sum().reset_index()\n"
   ]
  },
  {
   "cell_type": "markdown",
   "id": "6adca57e-de8d-48d1-b153-45d1dae97b27",
   "metadata": {},
   "source": [
    "\n",
    "Presenting the data visually like this aids in identifying key areas to focus on when addressing these crimes.\n"
   ]
  },
  {
   "cell_type": "code",
   "execution_count": 230,
   "id": "4027d543-f988-463d-abfb-9730d386d3f9",
   "metadata": {},
   "outputs": [
    {
     "data": {
      "application/vnd.plotly.v1+json": {
       "config": {
        "plotlyServerURL": "https://plot.ly"
       },
       "data": [
        {
         "domain": {
          "x": [
           0,
           1
          ],
          "y": [
           0,
           1
          ]
         },
         "hole": 0.4,
         "hoverinfo": "label+percent",
         "hovertemplate": "Crime Type=%{label}<br>Value=%{value}<extra></extra>",
         "labels": [
          "Assault against modesty of women",
          "Assault against women",
          "Domestic violence",
          "Dowry Deaths",
          "Kidnap And Assault",
          "No. of Rape cases",
          "Women Trafficking"
         ],
         "legendgroup": "",
         "name": "",
         "showlegend": true,
         "textinfo": "percent",
         "textposition": "inside",
         "type": "pie",
         "values": {
          "_inputArray": {
           "0": 7065,
           "1": 85392,
           "2": 111549,
           "3": 6966,
           "4": 62300,
           "5": 28046,
           "6": 868,
           "bdata": "mRsAAJBNAQC9swEANhsAAFzzAACObQAAZAMAAA==",
           "dtype": "i4",
           "shape": "7"
          },
          "bdata": "mRsAAJBNAQC9swEANhsAAFzzAACObQAAZAMAAA==",
          "dtype": "i4"
         }
        }
       ],
       "layout": {
        "autosize": true,
        "legend": {
         "tracegroupgap": 0
        },
        "paper_bgcolor": "rgba(9,0,8,0)",
        "piecolorway": [
         "rgb(0,68,27)",
         "rgb(0,109,44)",
         "rgb(35,139,69)",
         "rgb(65,171,93)",
         "rgb(116,196,118)",
         "rgb(161,217,155)",
         "rgb(199,233,192)",
         "rgb(229,245,224)",
         "rgb(247,252,245)"
        ],
        "plot_bgcolor": "rgba(0, 0, 0, 0)",
        "template": {
         "data": {
          "pie": [
           {
            "automargin": true,
            "type": "pie"
           }
          ],
          "scatter": [
           {
            "line": {
             "width": 3
            },
            "marker": {
             "size": 9
            },
            "type": "scatter"
           }
          ],
          "scatter3d": [
           {
            "line": {
             "width": 3
            },
            "marker": {
             "size": 9
            },
            "type": "scatter3d"
           }
          ],
          "scattergeo": [
           {
            "line": {
             "width": 3
            },
            "marker": {
             "size": 9
            },
            "type": "scattergeo"
           }
          ],
          "scattergl": [
           {
            "line": {
             "width": 3
            },
            "marker": {
             "size": 9
            },
            "type": "scattergl"
           }
          ],
          "scatterpolar": [
           {
            "line": {
             "width": 3
            },
            "marker": {
             "size": 9
            },
            "type": "scatterpolar"
           }
          ],
          "scatterpolargl": [
           {
            "line": {
             "width": 3
            },
            "marker": {
             "size": 9
            },
            "type": "scatterpolargl"
           }
          ],
          "scatterternary": [
           {
            "line": {
             "width": 3
            },
            "marker": {
             "size": 9
            },
            "type": "scatterternary"
           }
          ],
          "table": [
           {
            "cells": {
             "height": 30
            },
            "header": {
             "height": 36
            },
            "type": "table"
           }
          ]
         },
         "layout": {
          "font": {
           "size": 18
          },
          "xaxis": {
           "title": {
            "standoff": 15
           }
          },
          "yaxis": {
           "title": {
            "standoff": 15
           }
          }
         }
        },
        "title": {
         "text": "Crime Distribution by Type in 2020"
        }
       }
      },
      "image/png": "[encoded data removed]"
     },
     "metadata": {},
     "output_type": "display_data"
    }
   ],
   "source": [
    "fig = px.pie(\n",
    "    crime_2020,\n",
    "    names='Crime Type',\n",
    "    values='Value',\n",
    "    title=f'Crime Distribution by Type in {year}',\n",
    "    hole=0.4,\n",
    "    template='presentation',\n",
    "    color_discrete_sequence=px.colors.sequential.Greens_r\n",
    ")\n",
    "\n",
    "fig.update_traces(\n",
    "    textinfo='percent',      \n",
    "    textposition='inside',    \n",
    "    hoverinfo='label+percent' \n",
    ")\n",
    "\n",
    "fig.update_layout(\n",
    "    paper_bgcolor=\"rgba(9,0,8,0)\",\n",
    "    plot_bgcolor=\"rgba(0,0,0,0)\"\n",
    ")\n",
    "\n",
    "fig.write_image(os.path.join(results_dir, 'pie_chart.jpg'))\n",
    "fig.write_image(os.path.join(results_dir, 'pie_chart.png'))\n",
    "fig.write_html(os.path.join(results_dir, 'pie_chart.html'))\n",
    "fig.show()\n"
   ]
  },
  {
   "cell_type": "markdown",
   "id": "f7354c05-d5ed-4386-93ae-25dcd1af3cff",
   "metadata": {},
   "source": [
    "This pie chart shows the proportion of different types of crimes against women recorded in the dataset.\n",
    "\n",
    "- Each slice of the pie represents the count of a specific crime type.\n",
    "- The largest slice corresponds to *Domestic vilonce*, which appears more frequently than other crimes.\n",
    "- The smallest slice corresponds to *women trafficking*\n",
    "- This visualization helps us better understand which crimes against women are most prevalent in the dataset.\n"
   ]
  },
  {
   "cell_type": "code",
   "execution_count": 232,
   "id": "69d8af33-c6f2-443a-b65c-f069ae74ccbf",
   "metadata": {},
   "outputs": [],
   "source": [
    "top_5_states = crime_df.groupby('State')['Value'].sum().nlargest(5).reset_index()\n",
    "crime_by_state = crime_df[crime_df['State'].isin(top_5_states['State'])]\n",
    "crime_by_state = crime_by_state.groupby(['State', 'Crime Type'])['Value'].sum().reset_index()\n",
    "state_order = top_5_states['State'].tolist()\n",
    "crime_by_state['State'] = pd.Categorical(crime_by_state['State'], categories=state_order, ordered=True)\n",
    "crime_by_state = crime_by_state.sort_values('State')"
   ]
  },
  {
   "cell_type": "markdown",
   "id": "1da0480e-a4b8-4801-8d50-7b724e9f17de",
   "metadata": {},
   "source": [
    "### Crime distribution in Top 5 states \n",
    "   - Displays the **total crime counts per state** while breaking down those totals by **different crime types** stacked together.  \n",
    "   - Allows comparison of both the **overall volume of crimes** and the **composition of crime types** across multiple states simultaneously.  \n",
    "   - Useful for understanding how much crime occurs in each state and which crime types contribute to those totals."
   ]
  },
  {
   "cell_type": "code",
   "execution_count": 277,
   "id": "6043fafe-1f8e-45b3-9efd-b15b26acf83c",
   "metadata": {},
   "outputs": [
    {
     "data": {
      "application/vnd.plotly.v1+json": {
       "config": {
        "plotlyServerURL": "https://plot.ly"
       },
       "data": [
        {
         "hovertemplate": "Crime Type=Assault against modesty of women<br>State=%{x}<br>Value=%{text}<extra></extra>",
         "legendgroup": "Assault against modesty of women",
         "marker": {
          "color": "rgb(0,68,27)",
          "pattern": {
           "shape": ""
          }
         },
         "name": "Assault against modesty of women",
         "orientation": "v",
         "showlegend": true,
         "text": {
          "_inputArray": {
           "0": 46524,
           "1": 21631,
           "2": 5750,
           "3": 54684,
           "4": 2365,
           "bdata": "AAAAAIC35kAAAAAAwB/VQAAAAAAAdrZAAAAAAICz6kAAAAAAAHqiQA==",
           "dtype": "f8",
           "shape": "5"
          },
          "bdata": "AAAAAIC35kAAAAAAwB/VQAAAAAAAdrZAAAAAAICz6kAAAAAAAHqiQA==",
          "dtype": "f8"
         },
         "textposition": "outside",
         "type": "bar",
         "x": [
          "uttar pradesh",
          "madhya pradesh",
          "west bengal",
          "andhra pradesh",
          "rajasthan"
         ],
         "xaxis": "x",
         "y": {
          "_inputArray": {
           "0": 46524,
           "1": 21631,
           "2": 5750,
           "3": 54684,
           "4": 2365,
           "bdata": "vLUAAH9UAAB2FgAAnNUAAD0JAAA=",
           "dtype": "i4",
           "shape": "5"
          },
          "bdata": "vLUAAH9UAAB2FgAAnNUAAD0JAAA=",
          "dtype": "i4"
         },
         "yaxis": "y"
        },
        {
         "hovertemplate": "Crime Type=Domestic violence<br>State=%{x}<br>Value=%{text}<extra></extra>",
         "legendgroup": "Domestic violence",
         "marker": {
          "color": "rgb(0,109,44)",
          "pattern": {
           "shape": ""
          }
         },
         "name": "Domestic violence",
         "orientation": "v",
         "showlegend": true,
         "text": {
          "_inputArray": {
           "0": 163062,
           "1": 95521,
           "2": 262235,
           "3": 188511,
           "4": 201488,
           "bdata": "AAAAALDnA0EAAAAAEFL3QAAAAABsARBBAAAAAPgCB0EAAAAAgJgIQQ==",
           "dtype": "f8",
           "shape": "5"
          },
          "bdata": "AAAAALDnA0EAAAAAEFL3QAAAAABsARBBAAAAAPgCB0EAAAAAgJgIQQ==",
          "dtype": "f8"
         },
         "textposition": "outside",
         "type": "bar",
         "x": [
          "uttar pradesh",
          "madhya pradesh",
          "west bengal",
          "andhra pradesh",
          "rajasthan"
         ],
         "xaxis": "x",
         "y": {
          "_inputArray": {
           "0": 163062,
           "1": 95521,
           "2": 262235,
           "3": 188511,
           "4": 201488,
           "bdata": "9nwCACF1AQBbAAQAX+ACABATAwA=",
           "dtype": "i4",
           "shape": "5"
          },
          "bdata": "9nwCACF1AQBbAAQAX+ACABATAwA=",
          "dtype": "i4"
         },
         "yaxis": "y"
        },
        {
         "hovertemplate": "Crime Type=Dowry Deaths<br>State=%{x}<br>Value=%{text}<extra></extra>",
         "legendgroup": "Dowry Deaths",
         "marker": {
          "color": "rgb(35,139,69)",
          "pattern": {
           "shape": ""
          }
         },
         "name": "Dowry Deaths",
         "orientation": "v",
         "showlegend": true,
         "text": {
          "_inputArray": {
           "0": 40615,
           "1": 13316,
           "2": 8075,
           "3": 8165,
           "4": 7769,
           "bdata": "AAAAAODU40AAAAAAAALKQAAAAAAAi79AAAAAAADlv0AAAAAAAFm+QA==",
           "dtype": "f8",
           "shape": "5"
          },
          "bdata": "AAAAAODU40AAAAAAAALKQAAAAAAAi79AAAAAAADlv0AAAAAAAFm+QA==",
          "dtype": "f8"
         },
         "textposition": "outside",
         "type": "bar",
         "x": [
          "uttar pradesh",
          "madhya pradesh",
          "west bengal",
          "andhra pradesh",
          "rajasthan"
         ],
         "xaxis": "x",
         "y": {
          "_inputArray": {
           "0": 40615,
           "1": 13316,
           "2": 8075,
           "3": 8165,
           "4": 7769,
           "bdata": "p54AAAQ0AACLHwAA5R8AAFkeAAA=",
           "dtype": "i4",
           "shape": "5"
          },
          "bdata": "p54AAAQ0AACLHwAA5R8AAFkeAAA=",
          "dtype": "i4"
         },
         "yaxis": "y"
        },
        {
         "hovertemplate": "Crime Type=Kidnap And Assault<br>State=%{x}<br>Value=%{text}<extra></extra>",
         "legendgroup": "Kidnap And Assault",
         "marker": {
          "color": "rgb(65,171,93)",
          "pattern": {
           "shape": ""
          }
         },
         "name": "Kidnap And Assault",
         "orientation": "v",
         "showlegend": true,
         "text": {
          "_inputArray": {
           "0": 133856,
           "1": 57485,
           "2": 51742,
           "3": 21707,
           "4": 55320,
           "bdata": "AAAAAABXAEEAAAAAoBHsQAAAAADAQ+lAAAAAAMAy1UAAAAAAAAPrQA==",
           "dtype": "f8",
           "shape": "5"
          },
          "bdata": "AAAAAABXAEEAAAAAoBHsQAAAAADAQ+lAAAAAAMAy1UAAAAAAAAPrQA==",
          "dtype": "f8"
         },
         "textposition": "outside",
         "type": "bar",
         "x": [
          "uttar pradesh",
          "madhya pradesh",
          "west bengal",
          "andhra pradesh",
          "rajasthan"
         ],
         "xaxis": "x",
         "y": {
          "_inputArray": {
           "0": 133856,
           "1": 57485,
           "2": 51742,
           "3": 21707,
           "4": 55320,
           "bdata": "4AoCAI3gAAAeygAAy1QAABjYAAA=",
           "dtype": "i4",
           "shape": "5"
          },
          "bdata": "4AoCAI3gAAAeygAAy1QAABjYAAA=",
          "dtype": "i4"
         },
         "yaxis": "y"
        },
        {
         "hovertemplate": "Crime Type=No. of Rape cases<br>State=%{x}<br>Value=%{text}<extra></extra>",
         "legendgroup": "No. of Rape cases",
         "marker": {
          "color": "rgb(116,196,118)",
          "pattern": {
           "shape": ""
          }
         },
         "name": "No. of Rape cases",
         "orientation": "v",
         "showlegend": true,
         "text": {
          "_inputArray": {
           "0": 45694,
           "1": 72808,
           "2": 29486,
           "3": 23424,
           "4": 43799,
           "bdata": "AAAAAMBP5kAAAAAAgMbxQAAAAACAy9xAAAAAAADg1kAAAAAA4GLlQA==",
           "dtype": "f8",
           "shape": "5"
          },
          "bdata": "AAAAAMBP5kAAAAAAgMbxQAAAAACAy9xAAAAAAADg1kAAAAAA4GLlQA==",
          "dtype": "f8"
         },
         "textposition": "outside",
         "type": "bar",
         "x": [
          "uttar pradesh",
          "madhya pradesh",
          "west bengal",
          "andhra pradesh",
          "rajasthan"
         ],
         "xaxis": "x",
         "y": {
          "_inputArray": {
           "0": 45694,
           "1": 72808,
           "2": 29486,
           "3": 23424,
           "4": 43799,
           "bdata": "frIAAGgcAQAucwAAgFsAABerAAA=",
           "dtype": "i4",
           "shape": "5"
          },
          "bdata": "frIAAGgcAQAucwAAgFsAABerAAA=",
          "dtype": "i4"
         },
         "yaxis": "y"
        },
        {
         "hovertemplate": "Crime Type=Women Trafficking<br>State=%{x}<br>Value=%{text}<extra></extra>",
         "legendgroup": "Women Trafficking",
         "marker": {
          "color": "rgb(161,217,155)",
          "pattern": {
           "shape": ""
          }
         },
         "name": "Women Trafficking",
         "orientation": "v",
         "showlegend": true,
         "text": {
          "_inputArray": {
           "0": 333,
           "1": 396,
           "2": 940,
           "3": 2548,
           "4": 668,
           "bdata": "AAAAAADQdEAAAAAAAMB4QAAAAAAAYI1AAAAAAADoo0AAAAAAAOCEQA==",
           "dtype": "f8",
           "shape": "5"
          },
          "bdata": "AAAAAADQdEAAAAAAAMB4QAAAAAAAYI1AAAAAAADoo0AAAAAAAOCEQA==",
          "dtype": "f8"
         },
         "textposition": "outside",
         "type": "bar",
         "x": [
          "uttar pradesh",
          "madhya pradesh",
          "west bengal",
          "andhra pradesh",
          "rajasthan"
         ],
         "xaxis": "x",
         "y": {
          "_inputArray": {
           "0": 333,
           "1": 396,
           "2": 940,
           "3": 2548,
           "4": 668,
           "bdata": "TQGMAawD9AmcAg==",
           "dtype": "i2",
           "shape": "5"
          },
          "bdata": "TQGMAawD9AmcAg==",
          "dtype": "i2"
         },
         "yaxis": "y"
        },
        {
         "hovertemplate": "Crime Type=Assault against women<br>State=%{x}<br>Value=%{text}<extra></extra>",
         "legendgroup": "Assault against women",
         "marker": {
          "color": "rgb(199,233,192)",
          "pattern": {
           "shape": ""
          }
         },
         "name": "Assault against women",
         "orientation": "v",
         "showlegend": true,
         "text": {
          "_inputArray": {
           "0": 99650,
           "1": 152000,
           "2": 51014,
           "3": 92084,
           "4": 67855,
           "bdata": "AAAAACBU+EAAAAAAAI4CQQAAAADA6OhAAAAAAEB79kAAAAAA8JDwQA==",
           "dtype": "f8",
           "shape": "5"
          },
          "bdata": "AAAAACBU+EAAAAAAAI4CQQAAAADA6OhAAAAAAEB79kAAAAAA8JDwQA==",
          "dtype": "f8"
         },
         "textposition": "outside",
         "type": "bar",
         "x": [
          "uttar pradesh",
          "madhya pradesh",
          "west bengal",
          "andhra pradesh",
          "rajasthan"
         ],
         "xaxis": "x",
         "y": {
          "_inputArray": {
           "0": 99650,
           "1": 152000,
           "2": 51014,
           "3": 92084,
           "4": 67855,
           "bdata": "QoUBAMBRAgBGxwAAtGcBAA8JAQA=",
           "dtype": "i4",
           "shape": "5"
          },
          "bdata": "QoUBAMBRAgBGxwAAtGcBAA8JAQA=",
          "dtype": "i4"
         },
         "yaxis": "y"
        }
       ],
       "layout": {
        "barmode": "stack",
        "height": 600,
        "legend": {
         "title": {
          "text": "Crime Type"
         },
         "tracegroupgap": 0
        },
        "margin": {
         "b": 150,
         "l": 50,
         "r": 50,
         "t": 150
        },
        "template": {
         "data": {
          "pie": [
           {
            "automargin": true,
            "type": "pie"
           }
          ],
          "scatter": [
           {
            "line": {
             "width": 3
            },
            "marker": {
             "size": 9
            },
            "type": "scatter"
           }
          ],
          "scatter3d": [
           {
            "line": {
             "width": 3
            },
            "marker": {
             "size": 9
            },
            "type": "scatter3d"
           }
          ],
          "scattergeo": [
           {
            "line": {
             "width": 3
            },
            "marker": {
             "size": 9
            },
            "type": "scattergeo"
           }
          ],
          "scattergl": [
           {
            "line": {
             "width": 3
            },
            "marker": {
             "size": 9
            },
            "type": "scattergl"
           }
          ],
          "scatterpolar": [
           {
            "line": {
             "width": 3
            },
            "marker": {
             "size": 9
            },
            "type": "scatterpolar"
           }
          ],
          "scatterpolargl": [
           {
            "line": {
             "width": 3
            },
            "marker": {
             "size": 9
            },
            "type": "scatterpolargl"
           }
          ],
          "scatterternary": [
           {
            "line": {
             "width": 3
            },
            "marker": {
             "size": 9
            },
            "type": "scatterternary"
           }
          ],
          "table": [
           {
            "cells": {
             "height": 30
            },
            "header": {
             "height": 36
            },
            "type": "table"
           }
          ]
         },
         "layout": {
          "font": {
           "size": 18
          },
          "xaxis": {
           "title": {
            "standoff": 15
           }
          },
          "yaxis": {
           "title": {
            "standoff": 15
           }
          }
         }
        },
        "title": {
         "text": "Crime Distribution in Top 5 States"
        },
        "width": 1000,
        "xaxis": {
         "anchor": "y",
         "autorange": true,
         "domain": [
          0,
          1
         ],
         "range": [
          -0.5,
          4.5
         ],
         "tickangle": 23,
         "title": {
          "text": "State"
         },
         "type": "category"
        },
        "yaxis": {
         "anchor": "x",
         "autorange": true,
         "domain": [
          0,
          1
         ],
         "range": [
          0,
          557614.7368421053
         ],
         "title": {
          "text": "Value"
         },
         "type": "linear"
        }
       }
      },
      "image/png": "[encoded data removed]"
     },
     "metadata": {},
     "output_type": "display_data"
    }
   ],
   "source": [
    "fig = px.bar(\n",
    "    crime_by_state,\n",
    "    x='State',\n",
    "    y='Value',\n",
    "    color='Crime Type',\n",
    "    title='Crime Distribution in Top 5 States',\n",
    "    barmode='stack',\n",
    "    text='Value',\n",
    "    height=600,\n",
    "    width=1000,\n",
    "    template='presentation', \n",
    "    color_discrete_sequence=px.colors.sequential.Greens_r\n",
    ")\n",
    "fig.update_traces(textposition='outside')\n",
    "fig.update_layout(\n",
    "    xaxis_tickangle=23,\n",
    "    margin=dict(l=50, r=50, t=150, b=150)\n",
    ")\n",
    "fig.write_image(os.path.join(results_dir, 'Top5_most_reported_bar_plot.jpg'))\n",
    "fig.write_image(os.path.join(results_dir, 'Top5_most_reported_bar_plot.png'))\n",
    "fig.write_html(os.path.join(results_dir, 'Top5_most_reported_bar_plot.html'))\n",
    "fig.show()\n"
   ]
  },
  {
   "cell_type": "markdown",
   "id": "651f3e00-dbd2-4bb4-8df5-ea524ef7da60",
   "metadata": {},
   "source": [
    " bar chart illustrates the total number of reported crimes against women across the top 5 states, broken down by different crime types.\n",
    "\n",
    "- **Uttar Pradesh** has the highest total crime count among these states, indicating a significant number of incidents.\n",
    "- **Rajasthan** reports the lowest total crime count within this group.\n",
    "- Each state's total crime figures combine several types of crimes, such as rape cases, kidnapping, and others.\n",
    "- This visualization helps highlight both the volume of crimes per state and the relative prevalence of specific crime types within those states, guiding focused interventions."
   ]
  },
  {
   "cell_type": "markdown",
   "id": "58291c27-b97c-47ae-a028-8672f28b8309",
   "metadata": {},
   "source": [
    "### Crime trends over years"
   ]
  },
  {
   "cell_type": "code",
   "execution_count": 237,
   "id": "fba9bdd8-299b-4417-bac3-f73aae2aadb9",
   "metadata": {},
   "outputs": [],
   "source": [
    "crime_over_years = crime_df.groupby(['Year', 'Crime Type'])['Value'].sum().reset_index().sort_values(['Year', 'Crime Type'])"
   ]
  },
  {
   "cell_type": "markdown",
   "id": "deb2ad12-633e-46a6-8677-22cb8cc32042",
   "metadata": {},
   "source": [
    "### Crime Trends Over the Years\n",
    "\n",
    "The line chart titled **\"Crime Trends Over Years\"** illustrates how different types of crimes against women have changed over time.\n",
    "\n",
    "- The **x-axis** represents the years covered in the dataset.\n",
    "- The **y-axis** shows the number of reported cases (`Value`) for each crime type.\n",
    "- Each line represents a **specific type of crime**, such as rape, kidnapping, dowry deaths, etc.\n",
    "- **Markers** are used to highlight data points for each year, making it easier to trace changes in trend lines.\n",
    "\n"
   ]
  },
  {
   "cell_type": "code",
   "execution_count": 239,
   "id": "06aad0b2-cf59-47b8-86e9-61908dc2996e",
   "metadata": {},
   "outputs": [
    {
     "data": {
      "application/vnd.plotly.v1+json": {
       "config": {
        "plotlyServerURL": "https://plot.ly"
       },
       "data": [
        {
         "hovertemplate": "Crime Type=Assault against modesty of women<br>Year=%{x}<br>Value=%{y}<extra></extra>",
         "legendgroup": "Assault against modesty of women",
         "line": {
          "color": "rgb(0,68,27)",
          "dash": "solid"
         },
         "marker": {
          "symbol": "circle"
         },
         "mode": "lines+markers",
         "name": "Assault against modesty of women",
         "orientation": "v",
         "showlegend": true,
         "type": "scatter",
         "x": {
          "_inputArray": {
           "0": 2001,
           "1": 2002,
           "10": 2011,
           "11": 2012,
           "12": 2013,
           "13": 2014,
           "14": 2015,
           "15": 2016,
           "16": 2017,
           "17": 2018,
           "18": 2019,
           "19": 2020,
           "2": 2003,
           "20": 2021,
           "3": 2004,
           "4": 2005,
           "5": 2006,
           "6": 2007,
           "7": 2008,
           "8": 2009,
           "9": 2010,
           "bdata": "0QfSB9MH1AfVB9YH1wfYB9kH2gfbB9wH3QfeB98H4AfhB+IH4wfkB+UH",
           "dtype": "i2",
           "shape": "21"
          },
          "bdata": "0QfSB9MH1AfVB9YH1wfYB9kH2gfbB9wH3QfeB98H4AfhB+IH4wfkB+UH",
          "dtype": "i2"
         },
         "xaxis": "x",
         "y": {
          "_inputArray": {
           "0": 9656,
           "1": 10027,
           "10": 8570,
           "11": 9173,
           "12": 12589,
           "13": 21938,
           "14": 24041,
           "15": 27344,
           "16": 7451,
           "17": 6992,
           "18": 6939,
           "19": 7065,
           "2": 12220,
           "20": 7788,
           "3": 9871,
           "4": 9759,
           "5": 9822,
           "6": 10783,
           "7": 12084,
           "8": 10891,
           "9": 9881,
           "bdata": "uCUrJ7wvjyYfJl4mHyo0L4sqmSZ6IdUjLTGyVeld0GobHVAbGxuZG2we",
           "dtype": "i2",
           "shape": "21"
          },
          "bdata": "uCUrJ7wvjyYfJl4mHyo0L4sqmSZ6IdUjLTGyVeld0GobHVAbGxuZG2we",
          "dtype": "i2"
         },
         "yaxis": "y"
        },
        {
         "hovertemplate": "Crime Type=Assault against women<br>Year=%{x}<br>Value=%{y}<extra></extra>",
         "legendgroup": "Assault against women",
         "line": {
          "color": "rgb(0,109,44)",
          "dash": "solid"
         },
         "marker": {
          "symbol": "circle"
         },
         "mode": "lines+markers",
         "name": "Assault against women",
         "orientation": "v",
         "showlegend": true,
         "type": "scatter",
         "x": {
          "_inputArray": {
           "0": 2001,
           "1": 2002,
           "10": 2011,
           "11": 2012,
           "12": 2013,
           "13": 2014,
           "14": 2015,
           "15": 2016,
           "16": 2017,
           "17": 2018,
           "18": 2019,
           "19": 2020,
           "2": 2003,
           "20": 2021,
           "3": 2004,
           "4": 2005,
           "5": 2006,
           "6": 2007,
           "7": 2008,
           "8": 2009,
           "9": 2010,
           "bdata": "0QfSB9MH1AfVB9YH1wfYB9kH2gfbB9wH3QfeB98H4AfhB+IH4wfkB+UH",
           "dtype": "i2",
           "shape": "21"
          },
          "bdata": "0QfSB9MH1AfVB9YH1wfYB9kH2gfbB9wH3QfeB98H4AfhB+IH4wfkB+UH",
          "dtype": "i2"
         },
         "xaxis": "x",
         "y": {
          "_inputArray": {
           "0": 33622,
           "1": 33497,
           "10": 0,
           "11": 45344,
           "12": 70739,
           "13": 82235,
           "14": 82422,
           "15": 84746,
           "16": 86001,
           "17": 89097,
           "18": 88367,
           "19": 85392,
           "2": 32450,
           "20": 89200,
           "3": 33966,
           "4": 33413,
           "5": 35899,
           "6": 37866,
           "7": 39802,
           "8": 38159,
           "9": 40012,
           "bdata": "VoMAANmCAADCfgAAroQAAIWCAAA7jAAA6pMAAHqbAAAPlQAATJwAAAAAAAAgsQAAUxQBADtBAQD2QQEACksBAPFPAQAJXAEAL1kBAJBNAQBwXAEA",
           "dtype": "i4",
           "shape": "21"
          },
          "bdata": "VoMAANmCAADCfgAAroQAAIWCAAA7jAAA6pMAAHqbAAAPlQAATJwAAAAAAAAgsQAAUxQBADtBAQD2QQEACksBAPFPAQAJXAEAL1kBAJBNAQBwXAEA",
          "dtype": "i4"
         },
         "yaxis": "y"
        },
        {
         "hovertemplate": "Crime Type=Domestic violence<br>Year=%{x}<br>Value=%{y}<extra></extra>",
         "legendgroup": "Domestic violence",
         "line": {
          "color": "rgb(35,139,69)",
          "dash": "solid"
         },
         "marker": {
          "symbol": "circle"
         },
         "mode": "lines+markers",
         "name": "Domestic violence",
         "orientation": "v",
         "showlegend": true,
         "type": "scatter",
         "x": {
          "_inputArray": {
           "0": 2001,
           "1": 2002,
           "10": 2011,
           "11": 2012,
           "12": 2013,
           "13": 2014,
           "14": 2015,
           "15": 2016,
           "16": 2017,
           "17": 2018,
           "18": 2019,
           "19": 2020,
           "2": 2003,
           "20": 2021,
           "3": 2004,
           "4": 2005,
           "5": 2006,
           "6": 2007,
           "7": 2008,
           "8": 2009,
           "9": 2010,
           "bdata": "0QfSB9MH1AfVB9YH1wfYB9kH2gfbB9wH3QfeB98H4AfhB+IH4wfkB+UH",
           "dtype": "i2",
           "shape": "21"
          },
          "bdata": "0QfSB9MH1AfVB9YH1wfYB9kH2gfbB9wH3QfeB98H4AfhB+IH4wfkB+UH",
          "dtype": "i2"
         },
         "xaxis": "x",
         "y": {
          "_inputArray": {
           "0": 49032,
           "1": 49102,
           "10": 99135,
           "11": 106527,
           "12": 118866,
           "13": 122877,
           "14": 113403,
           "15": 110378,
           "16": 104551,
           "17": 103272,
           "18": 125298,
           "19": 111549,
           "2": 49492,
           "20": 136234,
           "3": 56867,
           "4": 56995,
           "5": 61400,
           "6": 74143,
           "7": 79957,
           "8": 88263,
           "9": 92637,
           "bdata": "iL8AAM6/AABUwQAAI94AAKPeAADY7wAAnyEBAFU4AQDHWAEA3WkBAD+DAQAfoAEAUtABAP3fAQD7ugEAKq8BAGeYAQBokwEAcukBAL2zAQAqFAIA",
           "dtype": "i4",
           "shape": "21"
          },
          "bdata": "iL8AAM6/AABUwQAAI94AAKPeAADY7wAAnyEBAFU4AQDHWAEA3WkBAD+DAQAfoAEAUtABAP3fAQD7ugEAKq8BAGeYAQBokwEAcukBAL2zAQAqFAIA",
          "dtype": "i4"
         },
         "yaxis": "y"
        },
        {
         "hovertemplate": "Crime Type=Dowry Deaths<br>Year=%{x}<br>Value=%{y}<extra></extra>",
         "legendgroup": "Dowry Deaths",
         "line": {
          "color": "rgb(65,171,93)",
          "dash": "solid"
         },
         "marker": {
          "symbol": "circle"
         },
         "mode": "lines+markers",
         "name": "Dowry Deaths",
         "orientation": "v",
         "showlegend": true,
         "type": "scatter",
         "x": {
          "_inputArray": {
           "0": 2001,
           "1": 2002,
           "10": 2011,
           "11": 2012,
           "12": 2013,
           "13": 2014,
           "14": 2015,
           "15": 2016,
           "16": 2017,
           "17": 2018,
           "18": 2019,
           "19": 2020,
           "2": 2003,
           "20": 2021,
           "3": 2004,
           "4": 2005,
           "5": 2006,
           "6": 2007,
           "7": 2008,
           "8": 2009,
           "9": 2010,
           "bdata": "0QfSB9MH1AfVB9YH1wfYB9kH2gfbB9wH3QfeB98H4AfhB+IH4wfkB+UH",
           "dtype": "i2",
           "shape": "21"
          },
          "bdata": "0QfSB9MH1AfVB9YH1wfYB9kH2gfbB9wH3QfeB98H4AfhB+IH4wfkB+UH",
          "dtype": "i2"
         },
         "xaxis": "x",
         "y": {
          "_inputArray": {
           "0": 6738,
           "1": 6687,
           "10": 8618,
           "11": 8233,
           "12": 8083,
           "13": 10050,
           "14": 7634,
           "15": 7621,
           "16": 7466,
           "17": 7166,
           "18": 7115,
           "19": 6966,
           "2": 6078,
           "20": 6753,
           "3": 6900,
           "4": 6673,
           "5": 7481,
           "6": 7955,
           "7": 8043,
           "8": 8242,
           "9": 8248,
           "bdata": "UhofGr4X9BoRGjkdEx9rHzIgOCCqISkgkx9CJ9IdxR0qHf4byxs2G2Ea",
           "dtype": "i2",
           "shape": "21"
          },
          "bdata": "UhofGr4X9BoRGjkdEx9rHzIgOCCqISkgkx9CJ9IdxR0qHf4byxs2G2Ea",
          "dtype": "i2"
         },
         "yaxis": "y"
        },
        {
         "hovertemplate": "Crime Type=Kidnap And Assault<br>Year=%{x}<br>Value=%{y}<extra></extra>",
         "legendgroup": "Kidnap And Assault",
         "line": {
          "color": "rgb(116,196,118)",
          "dash": "solid"
         },
         "marker": {
          "symbol": "circle"
         },
         "mode": "lines+markers",
         "name": "Kidnap And Assault",
         "orientation": "v",
         "showlegend": true,
         "type": "scatter",
         "x": {
          "_inputArray": {
           "0": 2001,
           "1": 2002,
           "10": 2011,
           "11": 2012,
           "12": 2013,
           "13": 2014,
           "14": 2015,
           "15": 2016,
           "16": 2017,
           "17": 2018,
           "18": 2019,
           "19": 2020,
           "2": 2003,
           "20": 2021,
           "3": 2004,
           "4": 2005,
           "5": 2006,
           "6": 2007,
           "7": 2008,
           "8": 2009,
           "9": 2010,
           "bdata": "0QfSB9MH1AfVB9YH1wfYB9kH2gfbB9wH3QfeB98H4AfhB+IH4wfkB+UH",
           "dtype": "i2",
           "shape": "21"
          },
          "bdata": "0QfSB9MH1AfVB9YH1wfYB9kH2gfbB9wH3QfeB98H4AfhB+IH4wfkB+UH",
          "dtype": "i2"
         },
         "xaxis": "x",
         "y": {
          "_inputArray": {
           "0": 13681,
           "1": 13613,
           "10": 35565,
           "11": 38262,
           "12": 51881,
           "13": 57311,
           "14": 59277,
           "15": 64519,
           "16": 66333,
           "17": 72751,
           "18": 72780,
           "19": 62300,
           "2": 12499,
           "20": 75369,
           "3": 14697,
           "4": 14644,
           "5": 16348,
           "6": 19249,
           "7": 21803,
           "8": 24086,
           "9": 28055,
           "bdata": "cTUAAC01AADTMAAAaTkAADQ5AADcPwAAMUsAACtVAAAWXgAAl20AAO2KAAB2lQAAqcoAAN/fAACN5wAAB/wAAB0DAQAvHAEATBwBAFzzAABpJgEA",
           "dtype": "i4",
           "shape": "21"
          },
          "bdata": "cTUAAC01AADTMAAAaTkAADQ5AADcPwAAMUsAACtVAAAWXgAAl20AAO2KAAB2lQAAqcoAAN/fAACN5wAAB/wAAB0DAQAvHAEATBwBAFzzAABpJgEA",
          "dtype": "i4"
         },
         "yaxis": "y"
        },
        {
         "hovertemplate": "Crime Type=No. of Rape cases<br>Year=%{x}<br>Value=%{y}<extra></extra>",
         "legendgroup": "No. of Rape cases",
         "line": {
          "color": "rgb(161,217,155)",
          "dash": "solid"
         },
         "marker": {
          "symbol": "circle"
         },
         "mode": "lines+markers",
         "name": "No. of Rape cases",
         "orientation": "v",
         "showlegend": true,
         "type": "scatter",
         "x": {
          "_inputArray": {
           "0": 2001,
           "1": 2002,
           "10": 2011,
           "11": 2012,
           "12": 2013,
           "13": 2014,
           "14": 2015,
           "15": 2016,
           "16": 2017,
           "17": 2018,
           "18": 2019,
           "19": 2020,
           "2": 2003,
           "20": 2021,
           "3": 2004,
           "4": 2005,
           "5": 2006,
           "6": 2007,
           "7": 2008,
           "8": 2009,
           "9": 2010,
           "bdata": "0QfSB9MH1AfVB9YH1wfYB9kH2gfbB9wH3QfeB98H4AfhB+IH4wfkB+UH",
           "dtype": "i2",
           "shape": "21"
          },
          "bdata": "0QfSB9MH1AfVB9YH1wfYB9kH2gfbB9wH3QfeB98H4AfhB+IH4wfkB+UH",
          "dtype": "i2"
         },
         "xaxis": "x",
         "y": {
          "_inputArray": {
           "0": 15694,
           "1": 15970,
           "10": 24206,
           "11": 24923,
           "12": 33707,
           "13": 36735,
           "14": 34651,
           "15": 38947,
           "16": 32559,
           "17": 33356,
           "18": 32033,
           "19": 28046,
           "2": 15357,
           "20": 31677,
           "3": 17682,
           "4": 17701,
           "5": 18725,
           "6": 20139,
           "7": 21001,
           "8": 20928,
           "9": 21665,
           "bdata": "Tj0AAGI+AAD9OwAAEkUAACVFAAAlSQAAq04AAAlSAADAUQAAoVQAAI5eAABbYQAAq4MAAH+PAABbhwAAI5gAAC9/AABMggAAIX0AAI5tAAC9ewAA",
           "dtype": "i4",
           "shape": "21"
          },
          "bdata": "Tj0AAGI+AAD9OwAAEkUAACVFAAAlSQAAq04AAAlSAADAUQAAoVQAAI5eAABbYQAAq4MAAH+PAABbhwAAI5gAAC9/AABMggAAIX0AAI5tAAC9ewAA",
          "dtype": "i4"
         },
         "yaxis": "y"
        },
        {
         "hovertemplate": "Crime Type=Women Trafficking<br>Year=%{x}<br>Value=%{y}<extra></extra>",
         "legendgroup": "Women Trafficking",
         "line": {
          "color": "rgb(199,233,192)",
          "dash": "solid"
         },
         "marker": {
          "symbol": "circle"
         },
         "mode": "lines+markers",
         "name": "Women Trafficking",
         "orientation": "v",
         "showlegend": true,
         "type": "scatter",
         "x": {
          "_inputArray": {
           "0": 2001,
           "1": 2002,
           "10": 2011,
           "11": 2012,
           "12": 2013,
           "13": 2014,
           "14": 2015,
           "15": 2016,
           "16": 2017,
           "17": 2018,
           "18": 2019,
           "19": 2020,
           "2": 2003,
           "20": 2021,
           "3": 2004,
           "4": 2005,
           "5": 2006,
           "6": 2007,
           "7": 2008,
           "8": 2009,
           "9": 2010,
           "bdata": "0QfSB9MH1AfVB9YH1wfYB9kH2gfbB9wH3QfeB98H4AfhB+IH4wfkB+UH",
           "dtype": "i2",
           "shape": "21"
          },
          "bdata": "0QfSB9MH1AfVB9YH1wfYB9kH2gfbB9wH3QfeB98H4AfhB+IH4wfkB+UH",
          "dtype": "i2"
         },
         "xaxis": "x",
         "y": {
          "_inputArray": {
           "0": 114,
           "1": 76,
           "10": 2435,
           "11": 2563,
           "12": 2579,
           "13": 2070,
           "14": 2424,
           "15": 2214,
           "16": 1536,
           "17": 1459,
           "18": 1185,
           "19": 868,
           "2": 46,
           "20": 1071,
           "3": 89,
           "4": 148,
           "5": 67,
           "6": 61,
           "7": 67,
           "8": 48,
           "9": 36,
           "bdata": "cgBMAC4AWQCUAEMAPQBDADAAJACDCQMKEwoWCHgJpggABrMFoQRkAy8E",
           "dtype": "i2",
           "shape": "21"
          },
          "bdata": "cgBMAC4AWQCUAEMAPQBDADAAJACDCQMKEwoWCHgJpggABrMFoQRkAy8E",
          "dtype": "i2"
         },
         "yaxis": "y"
        }
       ],
       "layout": {
        "height": 500,
        "legend": {
         "title": {
          "text": "Crime Type"
         },
         "tracegroupgap": 0
        },
        "paper_bgcolor": "rgba(9,0,8,0)",
        "plot_bgcolor": "rgba(0, 0, 0, 0)",
        "template": {
         "data": {
          "pie": [
           {
            "automargin": true,
            "type": "pie"
           }
          ],
          "scatter": [
           {
            "line": {
             "width": 3
            },
            "marker": {
             "size": 9
            },
            "type": "scatter"
           }
          ],
          "scatter3d": [
           {
            "line": {
             "width": 3
            },
            "marker": {
             "size": 9
            },
            "type": "scatter3d"
           }
          ],
          "scattergeo": [
           {
            "line": {
             "width": 3
            },
            "marker": {
             "size": 9
            },
            "type": "scattergeo"
           }
          ],
          "scattergl": [
           {
            "line": {
             "width": 3
            },
            "marker": {
             "size": 9
            },
            "type": "scattergl"
           }
          ],
          "scatterpolar": [
           {
            "line": {
             "width": 3
            },
            "marker": {
             "size": 9
            },
            "type": "scatterpolar"
           }
          ],
          "scatterpolargl": [
           {
            "line": {
             "width": 3
            },
            "marker": {
             "size": 9
            },
            "type": "scatterpolargl"
           }
          ],
          "scatterternary": [
           {
            "line": {
             "width": 3
            },
            "marker": {
             "size": 9
            },
            "type": "scatterternary"
           }
          ],
          "table": [
           {
            "cells": {
             "height": 30
            },
            "header": {
             "height": 36
            },
            "type": "table"
           }
          ]
         },
         "layout": {
          "font": {
           "size": 18
          },
          "xaxis": {
           "title": {
            "standoff": 15
           }
          },
          "yaxis": {
           "title": {
            "standoff": 15
           }
          }
         }
        },
        "title": {
         "text": "Crime Trends Over Years"
        },
        "width": 900,
        "xaxis": {
         "anchor": "y",
         "autorange": true,
         "domain": [
          0,
          1
         ],
         "range": [
          1999.561706582908,
          2022.438293417092
         ],
         "tickangle": 0,
         "title": {
          "text": "Year"
         },
         "type": "linear"
        },
        "yaxis": {
         "anchor": "x",
         "autorange": true,
         "domain": [
          0,
          1
         ],
         "range": [
          -10645.204155374886,
          146879.2041553749
         ],
         "title": {
          "text": "Value"
         },
         "type": "linear"
        }
       }
      },
      "image/png": "[encoded data removed]"
     },
     "metadata": {},
     "output_type": "display_data"
    }
   ],
   "source": [
    "fig2 = px.line(\n",
    "    crime_over_years,\n",
    "    x='Year',\n",
    "    y='Value',\n",
    "    color='Crime Type',\n",
    "    markers=True,\n",
    "    title='Crime Trends Over Years',\n",
    "    width=900,\n",
    "    height=500,                                 \n",
    "    template='presentation',                    \n",
    "    color_discrete_sequence=px.colors.sequential.Greens_r\n",
    ")\n",
    "\n",
    "fig2.update_traces(mode='lines+markers')\n",
    "fig2.update_layout(\n",
    "    xaxis_tickangle=0,\n",
    "    paper_bgcolor=\"rgba(9,0,8,0)\",\n",
    "    plot_bgcolor=\"rgba(0,0,0,0)\"\n",
    ")\n",
    "\n",
    "fig2.write_image(os.path.join(results_dir, 'crime_trends_over_years.jpg'))\n",
    "fig2.write_image(os.path.join(results_dir, 'crime_trends_over_years.png'))\n",
    "fig2.write_html(os.path.join(results_dir, 'crime_trends_over_years.html'))\n",
    "\n",
    "fig2.show()\n"
   ]
  },
  {
   "cell_type": "markdown",
   "id": "164ed1d0-4f4e-40f5-a12e-9ba7700d0395",
   "metadata": {},
   "source": [
    "- The chart helps identify whether certain crimes have **increased, decreased, or remained stable** over the years.\n",
    "- By comparing trends across crime types, we can see which issues have become more or less prominent over time.\n",
    "\n",
    "  This visualization is useful for policymakers, researchers, and social organizations to understand the **evolution of gender-based violence** and   guide **targeted interventions** based on historical data.\n"
   ]
  },
  {
   "cell_type": "markdown",
   "id": "6e9ad751-0354-4fda-88da-8f2fff0518a6",
   "metadata": {},
   "source": [
    "#### Trend of Top 3 Crime Types Over the Years\n"
   ]
  },
  {
   "cell_type": "code",
   "execution_count": 242,
   "id": "feabdec0-d55b-4de1-b546-22ca154e9ba6",
   "metadata": {},
   "outputs": [],
   "source": [
    "top_3_crimes = crime_df.groupby('Crime Type')['Value'].sum().nlargest(3).index.tolist()\n",
    "crime_trend_top3 = crime_df[crime_df['Crime Type'].isin(top_3_crimes)]\n",
    "crime_trend_by_year = crime_trend_top3.groupby(['Year', 'Crime Type'])['Value'].sum().reset_index()"
   ]
  },
  {
   "cell_type": "code",
   "execution_count": 243,
   "id": "7e2efe25-054e-4cda-bc6e-ff360590ebe1",
   "metadata": {},
   "outputs": [
    {
     "data": {
      "application/vnd.plotly.v1+json": {
       "config": {
        "plotlyServerURL": "https://plot.ly"
       },
       "data": [
        {
         "hovertemplate": "Crime Type=Assault against women<br>Year=%{x}<br>Total Cases=%{y}<extra></extra>",
         "legendgroup": "Assault against women",
         "line": {
          "color": "rgb(0,68,27)",
          "dash": "solid"
         },
         "marker": {
          "symbol": "circle"
         },
         "mode": "lines+markers",
         "name": "Assault against women",
         "orientation": "v",
         "showlegend": true,
         "type": "scatter",
         "x": {
          "_inputArray": {
           "0": 2001,
           "1": 2002,
           "10": 2011,
           "11": 2012,
           "12": 2013,
           "13": 2014,
           "14": 2015,
           "15": 2016,
           "16": 2017,
           "17": 2018,
           "18": 2019,
           "19": 2020,
           "2": 2003,
           "20": 2021,
           "3": 2004,
           "4": 2005,
           "5": 2006,
           "6": 2007,
           "7": 2008,
           "8": 2009,
           "9": 2010,
           "bdata": "0QfSB9MH1AfVB9YH1wfYB9kH2gfbB9wH3QfeB98H4AfhB+IH4wfkB+UH",
           "dtype": "i2",
           "shape": "21"
          },
          "bdata": "0QfSB9MH1AfVB9YH1wfYB9kH2gfbB9wH3QfeB98H4AfhB+IH4wfkB+UH",
          "dtype": "i2"
         },
         "xaxis": "x",
         "y": {
          "_inputArray": {
           "0": 33622,
           "1": 33497,
           "10": 0,
           "11": 45344,
           "12": 70739,
           "13": 82235,
           "14": 82422,
           "15": 84746,
           "16": 86001,
           "17": 89097,
           "18": 88367,
           "19": 85392,
           "2": 32450,
           "20": 89200,
           "3": 33966,
           "4": 33413,
           "5": 35899,
           "6": 37866,
           "7": 39802,
           "8": 38159,
           "9": 40012,
           "bdata": "VoMAANmCAADCfgAAroQAAIWCAAA7jAAA6pMAAHqbAAAPlQAATJwAAAAAAAAgsQAAUxQBADtBAQD2QQEACksBAPFPAQAJXAEAL1kBAJBNAQBwXAEA",
           "dtype": "i4",
           "shape": "21"
          },
          "bdata": "VoMAANmCAADCfgAAroQAAIWCAAA7jAAA6pMAAHqbAAAPlQAATJwAAAAAAAAgsQAAUxQBADtBAQD2QQEACksBAPFPAQAJXAEAL1kBAJBNAQBwXAEA",
          "dtype": "i4"
         },
         "yaxis": "y"
        },
        {
         "hovertemplate": "Crime Type=Domestic violence<br>Year=%{x}<br>Total Cases=%{y}<extra></extra>",
         "legendgroup": "Domestic violence",
         "line": {
          "color": "rgb(0,109,44)",
          "dash": "solid"
         },
         "marker": {
          "symbol": "circle"
         },
         "mode": "lines+markers",
         "name": "Domestic violence",
         "orientation": "v",
         "showlegend": true,
         "type": "scatter",
         "x": {
          "_inputArray": {
           "0": 2001,
           "1": 2002,
           "10": 2011,
           "11": 2012,
           "12": 2013,
           "13": 2014,
           "14": 2015,
           "15": 2016,
           "16": 2017,
           "17": 2018,
           "18": 2019,
           "19": 2020,
           "2": 2003,
           "20": 2021,
           "3": 2004,
           "4": 2005,
           "5": 2006,
           "6": 2007,
           "7": 2008,
           "8": 2009,
           "9": 2010,
           "bdata": "0QfSB9MH1AfVB9YH1wfYB9kH2gfbB9wH3QfeB98H4AfhB+IH4wfkB+UH",
           "dtype": "i2",
           "shape": "21"
          },
          "bdata": "0QfSB9MH1AfVB9YH1wfYB9kH2gfbB9wH3QfeB98H4AfhB+IH4wfkB+UH",
          "dtype": "i2"
         },
         "xaxis": "x",
         "y": {
          "_inputArray": {
           "0": 49032,
           "1": 49102,
           "10": 99135,
           "11": 106527,
           "12": 118866,
           "13": 122877,
           "14": 113403,
           "15": 110378,
           "16": 104551,
           "17": 103272,
           "18": 125298,
           "19": 111549,
           "2": 49492,
           "20": 136234,
           "3": 56867,
           "4": 56995,
           "5": 61400,
           "6": 74143,
           "7": 79957,
           "8": 88263,
           "9": 92637,
           "bdata": "iL8AAM6/AABUwQAAI94AAKPeAADY7wAAnyEBAFU4AQDHWAEA3WkBAD+DAQAfoAEAUtABAP3fAQD7ugEAKq8BAGeYAQBokwEAcukBAL2zAQAqFAIA",
           "dtype": "i4",
           "shape": "21"
          },
          "bdata": "iL8AAM6/AABUwQAAI94AAKPeAADY7wAAnyEBAFU4AQDHWAEA3WkBAD+DAQAfoAEAUtABAP3fAQD7ugEAKq8BAGeYAQBokwEAcukBAL2zAQAqFAIA",
          "dtype": "i4"
         },
         "yaxis": "y"
        },
        {
         "hovertemplate": "Crime Type=Kidnap And Assault<br>Year=%{x}<br>Total Cases=%{y}<extra></extra>",
         "legendgroup": "Kidnap And Assault",
         "line": {
          "color": "rgb(35,139,69)",
          "dash": "solid"
         },
         "marker": {
          "symbol": "circle"
         },
         "mode": "lines+markers",
         "name": "Kidnap And Assault",
         "orientation": "v",
         "showlegend": true,
         "type": "scatter",
         "x": {
          "_inputArray": {
           "0": 2001,
           "1": 2002,
           "10": 2011,
           "11": 2012,
           "12": 2013,
           "13": 2014,
           "14": 2015,
           "15": 2016,
           "16": 2017,
           "17": 2018,
           "18": 2019,
           "19": 2020,
           "2": 2003,
           "20": 2021,
           "3": 2004,
           "4": 2005,
           "5": 2006,
           "6": 2007,
           "7": 2008,
           "8": 2009,
           "9": 2010,
           "bdata": "0QfSB9MH1AfVB9YH1wfYB9kH2gfbB9wH3QfeB98H4AfhB+IH4wfkB+UH",
           "dtype": "i2",
           "shape": "21"
          },
          "bdata": "0QfSB9MH1AfVB9YH1wfYB9kH2gfbB9wH3QfeB98H4AfhB+IH4wfkB+UH",
          "dtype": "i2"
         },
         "xaxis": "x",
         "y": {
          "_inputArray": {
           "0": 13681,
           "1": 13613,
           "10": 35565,
           "11": 38262,
           "12": 51881,
           "13": 57311,
           "14": 59277,
           "15": 64519,
           "16": 66333,
           "17": 72751,
           "18": 72780,
           "19": 62300,
           "2": 12499,
           "20": 75369,
           "3": 14697,
           "4": 14644,
           "5": 16348,
           "6": 19249,
           "7": 21803,
           "8": 24086,
           "9": 28055,
           "bdata": "cTUAAC01AADTMAAAaTkAADQ5AADcPwAAMUsAACtVAAAWXgAAl20AAO2KAAB2lQAAqcoAAN/fAACN5wAAB/wAAB0DAQAvHAEATBwBAFzzAABpJgEA",
           "dtype": "i4",
           "shape": "21"
          },
          "bdata": "cTUAAC01AADTMAAAaTkAADQ5AADcPwAAMUsAACtVAAAWXgAAl20AAO2KAAB2lQAAqcoAAN/fAACN5wAAB/wAAB0DAQAvHAEATBwBAFzzAABpJgEA",
          "dtype": "i4"
         },
         "yaxis": "y"
        }
       ],
       "layout": {
        "height": 500,
        "legend": {
         "title": {
          "text": "Crime Type"
         },
         "tracegroupgap": 0
        },
        "paper_bgcolor": "rgba(9,0,8,0)",
        "plot_bgcolor": "rgba(0, 0, 0, 0)",
        "template": {
         "data": {
          "pie": [
           {
            "automargin": true,
            "type": "pie"
           }
          ],
          "scatter": [
           {
            "line": {
             "width": 3
            },
            "marker": {
             "size": 9
            },
            "type": "scatter"
           }
          ],
          "scatter3d": [
           {
            "line": {
             "width": 3
            },
            "marker": {
             "size": 9
            },
            "type": "scatter3d"
           }
          ],
          "scattergeo": [
           {
            "line": {
             "width": 3
            },
            "marker": {
             "size": 9
            },
            "type": "scattergeo"
           }
          ],
          "scattergl": [
           {
            "line": {
             "width": 3
            },
            "marker": {
             "size": 9
            },
            "type": "scattergl"
           }
          ],
          "scatterpolar": [
           {
            "line": {
             "width": 3
            },
            "marker": {
             "size": 9
            },
            "type": "scatterpolar"
           }
          ],
          "scatterpolargl": [
           {
            "line": {
             "width": 3
            },
            "marker": {
             "size": 9
            },
            "type": "scatterpolargl"
           }
          ],
          "scatterternary": [
           {
            "line": {
             "width": 3
            },
            "marker": {
             "size": 9
            },
            "type": "scatterternary"
           }
          ],
          "table": [
           {
            "cells": {
             "height": 30
            },
            "header": {
             "height": 36
            },
            "type": "table"
           }
          ]
         },
         "layout": {
          "font": {
           "size": 18
          },
          "xaxis": {
           "title": {
            "standoff": 15
           }
          },
          "yaxis": {
           "title": {
            "standoff": 15
           }
          }
         }
        },
        "title": {
         "text": "Trend of Top 3 Crime Types Over the Years"
        },
        "width": 900,
        "xaxis": {
         "anchor": "y",
         "autorange": true,
         "domain": [
          0,
          1
         ],
         "range": [
          1999.627081369777,
          2022.372918630223
         ],
         "tickangle": 0,
         "title": {
          "text": "Year"
         },
         "type": "linear"
        },
        "yaxis": {
         "anchor": "x",
         "autorange": true,
         "domain": [
          0,
          1
         ],
         "range": [
          -10645.204155374886,
          146879.2041553749
         ],
         "title": {
          "text": "Total Cases"
         },
         "type": "linear"
        }
       }
      },
      "image/png": "[encoded data removed]"
     },
     "metadata": {},
     "output_type": "display_data"
    }
   ],
   "source": [
    "fig = px.line(\n",
    "    crime_trend_by_year,\n",
    "    x='Year',\n",
    "    y='Value',\n",
    "    color='Crime Type',\n",
    "    markers=True,\n",
    "    title='Trend of Top 3 Crime Types Over the Years',\n",
    "    labels={'Value': 'Total Cases'},\n",
    "    height=500,\n",
    "    width=900,                 \n",
    "    template='presentation',\n",
    "    color_discrete_sequence=px.colors.sequential.Greens_r\n",
    ")\n",
    "fig.update_traces(mode='lines+markers')\n",
    "fig.update_layout(\n",
    "    xaxis_tickangle=0,\n",
    "    paper_bgcolor=\"rgba(9,0,8,0)\",\n",
    "    plot_bgcolor=\"rgba(0,0,0,0)\",\n",
    "    legend_title_text='Crime Type'\n",
    ")\n",
    "\n",
    "fig.write_image(os.path.join(results_dir, 'top3_crime_trends_over_years.jpg'))\n",
    "fig.write_image(os.path.join(results_dir, 'top3_crime_trends_over_years.png'))\n",
    "fig.write_html(os.path.join(results_dir, 'top3_crime_trends_over_years.html'))\n",
    "\n",
    "fig.show()\n"
   ]
  },
  {
   "cell_type": "markdown",
   "id": "a43baac9-674c-499d-a814-5ead684647a2",
   "metadata": {},
   "source": [
    "- The chart helps to **visually compare trends** of the top 3 crimes over the year.\n",
    "- It shows whether cases are **rising, falling, or stable**, offering insights into crime dynamics.\n",
    "- This focused view supports **evidence-based decision making** and awareness on the most prevalent forms of violence against women.\n"
   ]
  },
  {
   "cell_type": "markdown",
   "id": "089c312f-dbec-47af-879e-1faa9c319752",
   "metadata": {},
   "source": [
    "### Top 10 most frequently reported crimes"
   ]
  },
  {
   "cell_type": "code",
   "execution_count": 246,
   "id": "67f58dbb-261d-481b-8f0d-eea4f25f8f86",
   "metadata": {},
   "outputs": [],
   "source": [
    "top_crimes = crime_df.groupby('Crime Type')['Value'].sum().nlargest(10).reset_index()"
   ]
  },
  {
   "cell_type": "code",
   "execution_count": 247,
   "id": "d5a304af-87e2-4681-937a-4156fb4e4ad4",
   "metadata": {},
   "outputs": [
    {
     "data": {
      "application/vnd.plotly.v1+json": {
       "config": {
        "plotlyServerURL": "https://plot.ly"
       },
       "data": [
        {
         "hovertemplate": "Value=%{text}<br>Crime Type=%{y}<extra></extra>",
         "legendgroup": "",
         "marker": {
          "color": "seagreen",
          "pattern": {
           "shape": ""
          }
         },
         "name": "",
         "orientation": "h",
         "showlegend": false,
         "text": {
          "_inputArray": {
           "0": 1909978,
           "1": 1162229,
           "2": 835023,
           "3": 535702,
           "4": 244884,
           "5": 158750,
           "6": 21156,
           "bdata": "AAAAANokPUEAAAAA9bsxQQAAAACeeylBAAAAACxZIEEAAAAAoOQNQQAAAADwYANBAAAAAACp1EA=",
           "dtype": "f8",
           "shape": "7"
          },
          "bdata": "AAAAANokPUEAAAAA9bsxQQAAAACeeylBAAAAACxZIEEAAAAAoOQNQQAAAADwYANBAAAAAACp1EA=",
          "dtype": "f8"
         },
         "textposition": "outside",
         "type": "bar",
         "x": {
          "_inputArray": {
           "0": 1909978,
           "1": 1162229,
           "2": 835023,
           "3": 535702,
           "4": 244884,
           "5": 158750,
           "6": 21156,
           "bdata": "2iQdAPW7EQDPvQwAliwIAJS8AwAebAIApFIAAA==",
           "dtype": "i4",
           "shape": "7"
          },
          "bdata": "2iQdAPW7EQDPvQwAliwIAJS8AwAebAIApFIAAA==",
          "dtype": "i4"
         },
         "xaxis": "x",
         "y": [
          "Domestic violence",
          "Assault against women",
          "Kidnap And Assault",
          "No. of Rape cases",
          "Assault against modesty of women",
          "Dowry Deaths",
          "Women Trafficking"
         ],
         "yaxis": "y"
        }
       ],
       "layout": {
        "barmode": "relative",
        "height": 600,
        "legend": {
         "tracegroupgap": 0
        },
        "margin": {
         "b": 100,
         "l": 350,
         "r": 10,
         "t": 100
        },
        "template": {
         "data": {
          "pie": [
           {
            "automargin": true,
            "type": "pie"
           }
          ],
          "scatter": [
           {
            "line": {
             "width": 3
            },
            "marker": {
             "size": 9
            },
            "type": "scatter"
           }
          ],
          "scatter3d": [
           {
            "line": {
             "width": 3
            },
            "marker": {
             "size": 9
            },
            "type": "scatter3d"
           }
          ],
          "scattergeo": [
           {
            "line": {
             "width": 3
            },
            "marker": {
             "size": 9
            },
            "type": "scattergeo"
           }
          ],
          "scattergl": [
           {
            "line": {
             "width": 3
            },
            "marker": {
             "size": 9
            },
            "type": "scattergl"
           }
          ],
          "scatterpolar": [
           {
            "line": {
             "width": 3
            },
            "marker": {
             "size": 9
            },
            "type": "scatterpolar"
           }
          ],
          "scatterpolargl": [
           {
            "line": {
             "width": 3
            },
            "marker": {
             "size": 9
            },
            "type": "scatterpolargl"
           }
          ],
          "scatterternary": [
           {
            "line": {
             "width": 3
            },
            "marker": {
             "size": 9
            },
            "type": "scatterternary"
           }
          ],
          "table": [
           {
            "cells": {
             "height": 30
            },
            "header": {
             "height": 36
            },
            "type": "table"
           }
          ]
         },
         "layout": {
          "font": {
           "size": 18
          },
          "xaxis": {
           "title": {
            "standoff": 15
           }
          },
          "yaxis": {
           "title": {
            "standoff": 15
           }
          }
         }
        },
        "title": {
         "text": "Top 10 Most Reported Crime Types"
        },
        "width": 1000,
        "xaxis": {
         "anchor": "y",
         "autorange": true,
         "domain": [
          0,
          1
         ],
         "range": [
          0,
          2010503.1578947369
         ],
         "title": {
          "text": "Value"
         },
         "type": "linear"
        },
        "yaxis": {
         "anchor": "x",
         "autorange": true,
         "categoryorder": "total ascending",
         "domain": [
          0,
          1
         ],
         "range": [
          -0.5,
          6.5
         ],
         "title": {
          "text": "Crime Type"
         },
         "type": "category"
        }
       }
      },
      "image/png": "[encoded data removed]"
     },
     "metadata": {},
     "output_type": "display_data"
    }
   ],
   "source": [
    "fig = px.bar(\n",
    "    top_crimes,\n",
    "    x='Value',\n",
    "    y='Crime Type',\n",
    "    orientation='h',  \n",
    "    title='Top 10 Most Reported Crime Types',\n",
    "    text='Value',\n",
    "    color_discrete_sequence=['seagreen'],  \n",
    "    height=600,\n",
    "    width=1000,\n",
    "    template='presentation'\n",
    ")\n",
    "\n",
    "fig.update_traces(textposition='outside')\n",
    "fig.update_layout(\n",
    "    yaxis=dict(categoryorder='total ascending'),\n",
    "    margin=dict(l=350, r=10, t=100, b=100)  \n",
    ")\n",
    "\n",
    "fig.write_image(os.path.join(results_dir, 'Top10_most_reported_bar_plot.jpg'))\n",
    "fig.write_image(os.path.join(results_dir, 'Top10_most_reported_bar_plot.png'))\n",
    "fig.write_html(os.path.join(results_dir, 'Top10_most_reported_bar_plot.html'))\n",
    "\n",
    "fig.show()\n"
   ]
  },
  {
   "cell_type": "markdown",
   "id": "97ef393e-29ae-452a-a250-456e2612ee0b",
   "metadata": {},
   "source": [
    "This horizontal bar chart visualizes the **top 10 most frequently reported crimes** based on the number of recorded cases.\n",
    "\n",
    "- The **y-axis** lists the crime types, ordered by total cases in ascending order.\n",
    "- The **x-axis** represents the number of reported cases (`Value`).\n",
    "- Each bar is labeled with the exact count and is color-coded by magnitude for better visual emphasis.\n",
    "\n",
    "\n",
    "- This chart clearly highlights which types of crimes are **most prevalent** in the dataset. and the most is Domestic Viloence\n",
    "- It helps to quickly identify **priority areas** for policy intervention, awareness, and law enforcement efforts.\n",
    "- The use of a horizontal layout improves readability, especially for longer crime type names.\n",
    "\n",
    "This visualization is useful for summarizing the most critical forms of violence against women and supporting targeted actions "
   ]
  },
  {
   "cell_type": "code",
   "execution_count": 256,
   "id": "ce74ae66-a0b4-49e3-8c21-ac69f1aa7462",
   "metadata": {},
   "outputs": [
    {
     "name": "stdout",
     "output_type": "stream",
     "text": [
      "Chi-square test between State and Crime Type:\n",
      "Chi2 statistic = 1039977.76, p-value = 0.00000\n",
      "=> Significant association between State and Crime Type (reject null hypothesis).\n",
      "\n",
      "Spearman correlation between Year and crime Value for each Crime Type:\n",
      "                         Crime Type  Spearman Correlation       p-value\n",
      "0                 No. of Rape cases              0.129544  4.261818e-04\n",
      "1                Kidnap And Assault              0.200640  4.021422e-08\n",
      "2                      Dowry Deaths             -0.017134  6.426011e-01\n",
      "3             Assault against women              0.151784  3.553061e-05\n",
      "4  Assault against modesty of women              0.080348  2.928747e-02\n",
      "5                 Domestic violence              0.108515  3.201934e-03\n",
      "6                 Women Trafficking              0.449122  8.076209e-38\n",
      "\n",
      "Recommendations based on statistical tests:\n",
      "- Crime distribution varies significantly by State. Target interventions at high-crime states.\n",
      "- 'No. of Rape cases' shows a statistically significant increasing trend over years (correlation = 0.13).\n",
      "- 'Kidnap And Assault' shows a statistically significant increasing trend over years (correlation = 0.20).\n",
      "- 'Dowry Deaths' shows no significant trend over years.\n",
      "- 'Assault against women' shows a statistically significant increasing trend over years (correlation = 0.15).\n",
      "- 'Assault against modesty of women' shows a statistically significant increasing trend over years (correlation = 0.08).\n",
      "- 'Domestic violence' shows a statistically significant increasing trend over years (correlation = 0.11).\n",
      "- 'Women Trafficking' shows a statistically significant increasing trend over years (correlation = 0.45).\n",
      "\n",
      "Additional notes:\n",
      "- Consider socio-economic factors for deeper correlations.\n",
      "- Use regression or time series analysis for forecasting trends.\n"
     ]
    }
   ],
   "source": [
    "import pandas as pd\n",
    "import numpy as np\n",
    "from scipy.stats import chi2_contingency, spearmanr\n",
    "\n",
    "contingency = pd.pivot_table(crime_df, values='Value', index='State', columns='Crime Type', aggfunc='sum', fill_value=0)\n",
    "\n",
    "chi2, p, dof, expected = chi2_contingency(contingency)\n",
    "\n",
    "print(f\"Chi-square test between State and Crime Type:\")\n",
    "print(f\"Chi2 statistic = {chi2:.2f}, p-value = {p:.5f}\")\n",
    "\n",
    "if p < 0.05:\n",
    "    print(\"=> Significant association between State and Crime Type (reject null hypothesis).\")\n",
    "else:\n",
    "    print(\"=> No significant association between State and Crime Type (fail to reject null hypothesis).\")\n",
    "\n",
    "# 2. Correlation analysis between Year and crime Value by Crime Type\n",
    "\n",
    "print(\"\\nSpearman correlation between Year and crime Value for each Crime Type:\")\n",
    "\n",
    "correlation_results = []\n",
    "\n",
    "for crime in crime_df['Crime Type'].unique():\n",
    "    subset = crime_df[crime_df['Crime Type'] == crime]\n",
    "    corr, pval = spearmanr(subset['Year'], subset['Value'])\n",
    "    correlation_results.append({'Crime Type': crime, 'Spearman Correlation': corr, 'p-value': pval})\n",
    "\n",
    "corr_df = pd.DataFrame(correlation_results)\n",
    "print(corr_df)\n",
    "\n",
    "# Interpret correlations\n",
    "print(\"\\nRecommendations based on statistical tests:\")\n",
    "\n",
    "if p < 0.05:\n",
    "    print(\"- Crime distribution varies significantly by State. Target interventions at high-crime states.\")\n",
    "else:\n",
    "    print(\"- Crime distribution does not vary significantly by State, suggesting uniform patterns.\")\n",
    "\n",
    "for _, row in corr_df.iterrows():\n",
    "    if row['p-value'] < 0.05:\n",
    "        trend = \"increasing\" if row['Spearman Correlation'] > 0 else \"decreasing\"\n",
    "        print(f\"- '{row['Crime Type']}' shows a statistically significant {trend} trend over years (correlation = {row['Spearman Correlation']:.2f}).\")\n",
    "    else:\n",
    "        print(f\"- '{row['Crime Type']}' shows no significant trend over years.\")\n",
    "\n",
    "print(\"\\nAdditional notes:\")\n",
    "print(\"- Consider socio-economic factors for deeper correlations.\")\n",
    "print(\"- Use regression or time series analysis for forecasting trends.\")\n"
   ]
  },
  {
   "cell_type": "code",
   "execution_count": null,
   "id": "a5d4d26d-4235-4677-8afa-d977182dbdad",
   "metadata": {},
   "outputs": [],
   "source": []
  }
 ],
 "metadata": {
  "kernelspec": {
   "display_name": "Python [conda env:base] *",
   "language": "python",
   "name": "conda-base-py"
  },
  "language_info": {
   "codemirror_mode": {
    "name": "ipython",
    "version": 3
   },
   "file_extension": ".py",
   "mimetype": "text/x-python",
   "name": "python",
   "nbconvert_exporter": "python",
   "pygments_lexer": "ipython3",
   "version": "3.11.7"
  }
 },
 "nbformat": 4,
 "nbformat_minor": 5
}
